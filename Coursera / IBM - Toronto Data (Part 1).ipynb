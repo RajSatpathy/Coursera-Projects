{
    "nbformat_minor": 1, 
    "cells": [
        {
            "execution_count": 2, 
            "cell_type": "code", 
            "metadata": {}, 
            "outputs": [], 
            "source": "import urllib\nfrom bs4 import BeautifulSoup\nimport numpy as np\nimport pandas as pd"
        }, 
        {
            "execution_count": 11, 
            "cell_type": "code", 
            "metadata": {}, 
            "outputs": [], 
            "source": "url= urllib.request.urlopen('https://en.wikipedia.org/wiki/List_of_postal_codes_of_Canada:_M')\nsoup= BeautifulSoup(url, 'html.parser')"
        }, 
        {
            "execution_count": 28, 
            "cell_type": "code", 
            "metadata": {}, 
            "outputs": [
                {
                    "execution_count": 28, 
                    "metadata": {}, 
                    "data": {
                        "text/plain": "['Postcode', 'Borough', 'Neighbourhood']"
                    }, 
                    "output_type": "execute_result"
                }
            ], 
            "source": "col_names=[]\nfor tag in soup.table.find_all('th'):\n    tag.strip\n    col_names.append(tag.text)\nfor i, name in enumerate(col_names):\n    col_names[i]=name.replace('\\n','')\ncol_names"
        }, 
        {
            "execution_count": 61, 
            "cell_type": "code", 
            "metadata": {}, 
            "outputs": [
                {
                    "ename": "AttributeError", 
                    "evalue": "'list' object has no attribute 'strip'", 
                    "traceback": [
                        "\u001b[0;31m---------------------------------------------------------------------------\u001b[0m", 
                        "\u001b[0;31mAttributeError\u001b[0m                            Traceback (most recent call last)", 
                        "\u001b[0;32m<ipython-input-61-c797437761b8>\u001b[0m in \u001b[0;36m<module>\u001b[0;34m()\u001b[0m\n\u001b[1;32m     13\u001b[0m     \u001b[0;32mif\u001b[0m \u001b[0mi\u001b[0m\u001b[0;34m==\u001b[0m\u001b[0;36m4\u001b[0m\u001b[0;34m:\u001b[0m\u001b[0;34m\u001b[0m\u001b[0m\n\u001b[1;32m     14\u001b[0m         \u001b[0mi\u001b[0m\u001b[0;34m=\u001b[0m\u001b[0;36m1\u001b[0m\u001b[0;34m\u001b[0m\u001b[0m\n\u001b[0;32m---> 15\u001b[0;31m \u001b[0mneighborhood_list\u001b[0m\u001b[0;34m.\u001b[0m\u001b[0mstrip\u001b[0m\u001b[0;34m(\u001b[0m\u001b[0;34m)\u001b[0m\u001b[0;34m\u001b[0m\u001b[0m\n\u001b[0m", 
                        "\u001b[0;31mAttributeError\u001b[0m: 'list' object has no attribute 'strip'"
                    ], 
                    "output_type": "error"
                }
            ], 
            "source": "#iterate over i=1 to 3, adding each tag into its specified list for dataframe creation later\n\ncodes_list=[]\nborough_list=[]\nneighborhood_list=[]\ni=1\nfor tag in soup.table.find_all('td'):\n    if i == 1:\n        codes_list.append(tag.text)\n    if i == 2:\n        borough_list.append(tag.text)\n    if i == 3: \n        neighborhood_list.append(tag.text)\n    i = i+1\n    if i==4:\n        i=1"
        }, 
        {
            "execution_count": 65, 
            "cell_type": "code", 
            "metadata": {}, 
            "outputs": [], 
            "source": "def replace_n(lst, i=0):\n    #this function replaces those pesky new line html markers in every string\n    for string in lst:\n        lst[i] = string.replace('\\n','')\n        i = i+1"
        }, 
        {
            "execution_count": 66, 
            "cell_type": "code", 
            "metadata": {}, 
            "outputs": [
                {
                    "execution_count": 66, 
                    "metadata": {}, 
                    "data": {
                        "text/plain": "['Not assigned',\n 'Not assigned',\n 'Parkwoods',\n 'Victoria Village',\n 'Harbourfront',\n 'Regent Park',\n 'Lawrence Heights',\n 'Lawrence Manor',\n 'Not assigned',\n 'Not assigned',\n 'Islington Avenue',\n 'Rouge',\n 'Malvern',\n 'Not assigned',\n 'Don Mills North',\n 'Woodbine Gardens',\n 'Parkview Hill',\n 'Ryerson',\n 'Garden District',\n 'Glencairn',\n 'Not assigned',\n 'Not assigned',\n 'Cloverdale',\n 'Islington',\n 'Martin Grove',\n 'Princess Gardens',\n 'West Deane Park',\n 'Highland Creek',\n 'Rouge Hill',\n 'Port Union',\n 'Not assigned',\n 'Flemingdon Park',\n 'Don Mills South',\n 'Woodbine Heights',\n 'St. James Town',\n 'Humewood-Cedarvale',\n 'Not assigned',\n 'Not assigned',\n 'Bloordale Gardens',\n 'Eringate',\n 'Markland Wood',\n 'Old Burnhamthorpe',\n 'Guildwood',\n 'Morningside',\n 'West Hill',\n 'Not assigned',\n 'Not assigned',\n 'The Beaches',\n 'Berczy Park',\n 'Caledonia-Fairbanks',\n 'Not assigned',\n 'Not assigned',\n 'Not assigned',\n 'Woburn',\n 'Not assigned',\n 'Not assigned',\n 'Leaside',\n 'Central Bay Street',\n 'Christie',\n 'Not assigned',\n 'Not assigned',\n 'Not assigned',\n 'Cedarbrae',\n 'Hillcrest Village',\n 'Bathurst Manor',\n 'Downsview North',\n 'Wilson Heights',\n 'Thorncliffe Park',\n 'Adelaide',\n 'King',\n 'Richmond',\n 'Dovercourt Village',\n 'Dufferin',\n 'Not assigned',\n 'Not assigned',\n 'Not assigned',\n 'Scarborough Village',\n 'Fairview',\n 'Henry Farm',\n 'Oriole',\n 'Northwood Park',\n 'York University',\n 'East Toronto',\n 'Harbourfront East',\n 'Toronto Islands',\n 'Union Station',\n 'Little Portugal',\n 'Trinity',\n 'Not assigned',\n 'Not assigned',\n 'Not assigned',\n 'East Birchmount Park',\n 'Ionview',\n 'Kennedy Park',\n 'Bayview Village',\n 'CFB Toronto',\n 'Downsview East',\n 'The Danforth West',\n 'Riverdale',\n 'Design Exchange',\n 'Toronto Dominion Centre',\n 'Brockton',\n 'Exhibition Place',\n 'Parkdale Village',\n 'Not assigned',\n 'Not assigned',\n 'Not assigned',\n 'Clairlea',\n 'Golden Mile',\n 'Oakridge',\n 'Silver Hills',\n 'York Mills',\n 'Downsview West',\n 'The Beaches West',\n 'India Bazaar',\n 'Commerce Court',\n 'Victoria Hotel',\n 'Maple Leaf Park',\n 'North Park',\n 'Upwood Park',\n 'Not assigned',\n 'Not assigned',\n 'Humber Summit',\n 'Cliffcrest',\n 'Cliffside',\n 'Scarborough Village West',\n 'Newtonbrook',\n 'Willowdale',\n 'Downsview Central',\n 'Studio District',\n 'Bedford Park',\n 'Lawrence Manor East',\n 'Del Ray',\n 'Keelesdale',\n 'Mount Dennis',\n 'Silverthorn',\n 'Not assigned',\n 'Not assigned',\n 'Emery',\n 'Humberlea',\n 'Birch Cliff',\n 'Cliffside West',\n 'Willowdale South',\n 'Downsview Northwest',\n 'Lawrence Park',\n 'Roselawn',\n 'The Junction North',\n 'Runnymede',\n 'Not assigned',\n 'Not assigned',\n 'Weston',\n 'Dorset Park',\n 'Scarborough Town Centre',\n 'Wexford Heights',\n 'York Mills West',\n 'Not assigned',\n 'Davisville North',\n 'Forest Hill North',\n 'Forest Hill West',\n 'High Park',\n 'The Junction South',\n 'Not assigned',\n 'Not assigned',\n 'Westmount',\n 'Maryvale',\n 'Wexford',\n 'Willowdale West',\n 'Not assigned',\n 'North Toronto West',\n 'The Annex',\n 'North Midtown',\n 'Yorkville',\n 'Parkdale',\n 'Roncesvalles',\n 'Canada Post Gateway Processing Centre',\n 'Not assigned',\n 'Kingsview Village',\n 'Martin Grove Gardens',\n 'Richview Gardens',\n 'St. Phillips',\n 'Agincourt',\n 'Not assigned',\n 'Not assigned',\n 'Davisville',\n 'Harbord',\n 'University of Toronto',\n 'Runnymede',\n 'Swansea',\n 'Not assigned',\n 'Not assigned',\n 'Not assigned',\n 'Clarks Corners',\n 'Sullivan',\n \"Tam O'Shanter\",\n 'Not assigned',\n 'Not assigned',\n 'Moore Park',\n 'Summerhill East',\n 'Chinatown',\n 'Grange Park',\n 'Kensington Market',\n 'Not assigned',\n 'Not assigned',\n 'Not assigned',\n 'Not assigned',\n 'Agincourt North',\n \"L'Amoreaux East\",\n 'Milliken',\n 'Steeles East',\n 'Not assigned',\n 'Not assigned',\n 'Deer Park',\n 'Forest Hill SE',\n 'Rathnelly',\n 'South Hill',\n 'Summerhill West',\n 'CN Tower',\n 'Bathurst Quay',\n 'Island airport',\n 'Harbourfront West',\n 'King and Spadina',\n 'Railway Lands',\n 'South Niagara',\n 'Not assigned',\n 'Not assigned',\n 'Humber Bay Shores',\n 'Mimico South',\n 'New Toronto',\n 'Albion Gardens',\n 'Beaumond Heights',\n 'Humbergate',\n 'Jamestown',\n 'Mount Olive',\n 'Silverstone',\n 'South Steeles',\n 'Thistletown',\n \"L'Amoreaux West\",\n 'Steeles West',\n 'Not assigned',\n 'Not assigned',\n 'Rosedale',\n 'Stn A PO Boxes 25 The Esplanade',\n 'Not assigned',\n 'Not assigned',\n 'Alderwood',\n 'Long Branch',\n 'Northwest',\n 'Upper Rouge',\n 'Not assigned',\n 'Not assigned',\n 'Cabbagetown',\n 'St. James Town',\n 'First Canadian Place',\n 'Underground city',\n 'Not assigned',\n 'Not assigned',\n 'The Kingsway',\n 'Montgomery Road',\n 'Old Mill North',\n 'Not assigned',\n 'Not assigned',\n 'Not assigned',\n 'Not assigned',\n 'Church and Wellesley',\n 'Not assigned',\n 'Not assigned',\n 'Business Reply Mail Processing Centre 969 Eastern',\n 'Humber Bay',\n \"King's Mill Park\",\n 'Kingsway Park South East',\n 'Mimico NE',\n 'Old Mill South',\n 'The Queensway East',\n 'Royal York South East',\n 'Sunnylea',\n 'Not assigned',\n 'Not assigned',\n 'Not assigned',\n 'Not assigned',\n 'Not assigned',\n 'Not assigned',\n 'Not assigned',\n 'Not assigned',\n 'Kingsway Park South West',\n 'Mimico NW',\n 'The Queensway West',\n 'Royal York South West',\n 'South of Bloor',\n 'Not assigned']"
                    }, 
                    "output_type": "execute_result"
                }
            ], 
            "source": "replace_n(neighborhood_list)\nneighborhood_list"
        }, 
        {
            "execution_count": 67, 
            "cell_type": "code", 
            "metadata": {
                "scrolled": true
            }, 
            "outputs": [
                {
                    "execution_count": 67, 
                    "metadata": {}, 
                    "data": {
                        "text/html": "<div>\n<style scoped>\n    .dataframe tbody tr th:only-of-type {\n        vertical-align: middle;\n    }\n\n    .dataframe tbody tr th {\n        vertical-align: top;\n    }\n\n    .dataframe thead th {\n        text-align: right;\n    }\n</style>\n<table border=\"1\" class=\"dataframe\">\n  <thead>\n    <tr style=\"text-align: right;\">\n      <th></th>\n      <th>Postcode</th>\n      <th>Borough</th>\n      <th>Neighbourhood</th>\n    </tr>\n  </thead>\n  <tbody>\n    <tr>\n      <th>0</th>\n      <td>M1A</td>\n      <td>Not assigned</td>\n      <td>Not assigned</td>\n    </tr>\n    <tr>\n      <th>1</th>\n      <td>M2A</td>\n      <td>Not assigned</td>\n      <td>Not assigned</td>\n    </tr>\n    <tr>\n      <th>2</th>\n      <td>M3A</td>\n      <td>North York</td>\n      <td>Parkwoods</td>\n    </tr>\n    <tr>\n      <th>3</th>\n      <td>M4A</td>\n      <td>North York</td>\n      <td>Victoria Village</td>\n    </tr>\n    <tr>\n      <th>4</th>\n      <td>M5A</td>\n      <td>Downtown Toronto</td>\n      <td>Harbourfront</td>\n    </tr>\n    <tr>\n      <th>5</th>\n      <td>M5A</td>\n      <td>Downtown Toronto</td>\n      <td>Regent Park</td>\n    </tr>\n    <tr>\n      <th>6</th>\n      <td>M6A</td>\n      <td>North York</td>\n      <td>Lawrence Heights</td>\n    </tr>\n    <tr>\n      <th>7</th>\n      <td>M6A</td>\n      <td>North York</td>\n      <td>Lawrence Manor</td>\n    </tr>\n    <tr>\n      <th>8</th>\n      <td>M7A</td>\n      <td>Queen's Park</td>\n      <td>Not assigned</td>\n    </tr>\n    <tr>\n      <th>9</th>\n      <td>M8A</td>\n      <td>Not assigned</td>\n      <td>Not assigned</td>\n    </tr>\n    <tr>\n      <th>10</th>\n      <td>M9A</td>\n      <td>Etobicoke</td>\n      <td>Islington Avenue</td>\n    </tr>\n    <tr>\n      <th>11</th>\n      <td>M1B</td>\n      <td>Scarborough</td>\n      <td>Rouge</td>\n    </tr>\n    <tr>\n      <th>12</th>\n      <td>M1B</td>\n      <td>Scarborough</td>\n      <td>Malvern</td>\n    </tr>\n    <tr>\n      <th>13</th>\n      <td>M2B</td>\n      <td>Not assigned</td>\n      <td>Not assigned</td>\n    </tr>\n    <tr>\n      <th>14</th>\n      <td>M3B</td>\n      <td>North York</td>\n      <td>Don Mills North</td>\n    </tr>\n    <tr>\n      <th>15</th>\n      <td>M4B</td>\n      <td>East York</td>\n      <td>Woodbine Gardens</td>\n    </tr>\n    <tr>\n      <th>16</th>\n      <td>M4B</td>\n      <td>East York</td>\n      <td>Parkview Hill</td>\n    </tr>\n    <tr>\n      <th>17</th>\n      <td>M5B</td>\n      <td>Downtown Toronto</td>\n      <td>Ryerson</td>\n    </tr>\n    <tr>\n      <th>18</th>\n      <td>M5B</td>\n      <td>Downtown Toronto</td>\n      <td>Garden District</td>\n    </tr>\n    <tr>\n      <th>19</th>\n      <td>M6B</td>\n      <td>North York</td>\n      <td>Glencairn</td>\n    </tr>\n    <tr>\n      <th>20</th>\n      <td>M7B</td>\n      <td>Not assigned</td>\n      <td>Not assigned</td>\n    </tr>\n    <tr>\n      <th>21</th>\n      <td>M8B</td>\n      <td>Not assigned</td>\n      <td>Not assigned</td>\n    </tr>\n    <tr>\n      <th>22</th>\n      <td>M9B</td>\n      <td>Etobicoke</td>\n      <td>Cloverdale</td>\n    </tr>\n    <tr>\n      <th>23</th>\n      <td>M9B</td>\n      <td>Etobicoke</td>\n      <td>Islington</td>\n    </tr>\n    <tr>\n      <th>24</th>\n      <td>M9B</td>\n      <td>Etobicoke</td>\n      <td>Martin Grove</td>\n    </tr>\n    <tr>\n      <th>25</th>\n      <td>M9B</td>\n      <td>Etobicoke</td>\n      <td>Princess Gardens</td>\n    </tr>\n    <tr>\n      <th>26</th>\n      <td>M9B</td>\n      <td>Etobicoke</td>\n      <td>West Deane Park</td>\n    </tr>\n    <tr>\n      <th>27</th>\n      <td>M1C</td>\n      <td>Scarborough</td>\n      <td>Highland Creek</td>\n    </tr>\n    <tr>\n      <th>28</th>\n      <td>M1C</td>\n      <td>Scarborough</td>\n      <td>Rouge Hill</td>\n    </tr>\n    <tr>\n      <th>29</th>\n      <td>M1C</td>\n      <td>Scarborough</td>\n      <td>Port Union</td>\n    </tr>\n    <tr>\n      <th>...</th>\n      <td>...</td>\n      <td>...</td>\n      <td>...</td>\n    </tr>\n    <tr>\n      <th>259</th>\n      <td>M9X</td>\n      <td>Not assigned</td>\n      <td>Not assigned</td>\n    </tr>\n    <tr>\n      <th>260</th>\n      <td>M1Y</td>\n      <td>Not assigned</td>\n      <td>Not assigned</td>\n    </tr>\n    <tr>\n      <th>261</th>\n      <td>M2Y</td>\n      <td>Not assigned</td>\n      <td>Not assigned</td>\n    </tr>\n    <tr>\n      <th>262</th>\n      <td>M3Y</td>\n      <td>Not assigned</td>\n      <td>Not assigned</td>\n    </tr>\n    <tr>\n      <th>263</th>\n      <td>M4Y</td>\n      <td>Downtown Toronto</td>\n      <td>Church and Wellesley</td>\n    </tr>\n    <tr>\n      <th>264</th>\n      <td>M5Y</td>\n      <td>Not assigned</td>\n      <td>Not assigned</td>\n    </tr>\n    <tr>\n      <th>265</th>\n      <td>M6Y</td>\n      <td>Not assigned</td>\n      <td>Not assigned</td>\n    </tr>\n    <tr>\n      <th>266</th>\n      <td>M7Y</td>\n      <td>East Toronto</td>\n      <td>Business Reply Mail Processing Centre 969 Eastern</td>\n    </tr>\n    <tr>\n      <th>267</th>\n      <td>M8Y</td>\n      <td>Etobicoke</td>\n      <td>Humber Bay</td>\n    </tr>\n    <tr>\n      <th>268</th>\n      <td>M8Y</td>\n      <td>Etobicoke</td>\n      <td>King's Mill Park</td>\n    </tr>\n    <tr>\n      <th>269</th>\n      <td>M8Y</td>\n      <td>Etobicoke</td>\n      <td>Kingsway Park South East</td>\n    </tr>\n    <tr>\n      <th>270</th>\n      <td>M8Y</td>\n      <td>Etobicoke</td>\n      <td>Mimico NE</td>\n    </tr>\n    <tr>\n      <th>271</th>\n      <td>M8Y</td>\n      <td>Etobicoke</td>\n      <td>Old Mill South</td>\n    </tr>\n    <tr>\n      <th>272</th>\n      <td>M8Y</td>\n      <td>Etobicoke</td>\n      <td>The Queensway East</td>\n    </tr>\n    <tr>\n      <th>273</th>\n      <td>M8Y</td>\n      <td>Etobicoke</td>\n      <td>Royal York South East</td>\n    </tr>\n    <tr>\n      <th>274</th>\n      <td>M8Y</td>\n      <td>Etobicoke</td>\n      <td>Sunnylea</td>\n    </tr>\n    <tr>\n      <th>275</th>\n      <td>M9Y</td>\n      <td>Not assigned</td>\n      <td>Not assigned</td>\n    </tr>\n    <tr>\n      <th>276</th>\n      <td>M1Z</td>\n      <td>Not assigned</td>\n      <td>Not assigned</td>\n    </tr>\n    <tr>\n      <th>277</th>\n      <td>M2Z</td>\n      <td>Not assigned</td>\n      <td>Not assigned</td>\n    </tr>\n    <tr>\n      <th>278</th>\n      <td>M3Z</td>\n      <td>Not assigned</td>\n      <td>Not assigned</td>\n    </tr>\n    <tr>\n      <th>279</th>\n      <td>M4Z</td>\n      <td>Not assigned</td>\n      <td>Not assigned</td>\n    </tr>\n    <tr>\n      <th>280</th>\n      <td>M5Z</td>\n      <td>Not assigned</td>\n      <td>Not assigned</td>\n    </tr>\n    <tr>\n      <th>281</th>\n      <td>M6Z</td>\n      <td>Not assigned</td>\n      <td>Not assigned</td>\n    </tr>\n    <tr>\n      <th>282</th>\n      <td>M7Z</td>\n      <td>Not assigned</td>\n      <td>Not assigned</td>\n    </tr>\n    <tr>\n      <th>283</th>\n      <td>M8Z</td>\n      <td>Etobicoke</td>\n      <td>Kingsway Park South West</td>\n    </tr>\n    <tr>\n      <th>284</th>\n      <td>M8Z</td>\n      <td>Etobicoke</td>\n      <td>Mimico NW</td>\n    </tr>\n    <tr>\n      <th>285</th>\n      <td>M8Z</td>\n      <td>Etobicoke</td>\n      <td>The Queensway West</td>\n    </tr>\n    <tr>\n      <th>286</th>\n      <td>M8Z</td>\n      <td>Etobicoke</td>\n      <td>Royal York South West</td>\n    </tr>\n    <tr>\n      <th>287</th>\n      <td>M8Z</td>\n      <td>Etobicoke</td>\n      <td>South of Bloor</td>\n    </tr>\n    <tr>\n      <th>288</th>\n      <td>M9Z</td>\n      <td>Not assigned</td>\n      <td>Not assigned</td>\n    </tr>\n  </tbody>\n</table>\n<p>289 rows \u00d7 3 columns</p>\n</div>", 
                        "text/plain": "    Postcode           Borough  \\\n0        M1A      Not assigned   \n1        M2A      Not assigned   \n2        M3A        North York   \n3        M4A        North York   \n4        M5A  Downtown Toronto   \n5        M5A  Downtown Toronto   \n6        M6A        North York   \n7        M6A        North York   \n8        M7A      Queen's Park   \n9        M8A      Not assigned   \n10       M9A         Etobicoke   \n11       M1B       Scarborough   \n12       M1B       Scarborough   \n13       M2B      Not assigned   \n14       M3B        North York   \n15       M4B         East York   \n16       M4B         East York   \n17       M5B  Downtown Toronto   \n18       M5B  Downtown Toronto   \n19       M6B        North York   \n20       M7B      Not assigned   \n21       M8B      Not assigned   \n22       M9B         Etobicoke   \n23       M9B         Etobicoke   \n24       M9B         Etobicoke   \n25       M9B         Etobicoke   \n26       M9B         Etobicoke   \n27       M1C       Scarborough   \n28       M1C       Scarborough   \n29       M1C       Scarborough   \n..       ...               ...   \n259      M9X      Not assigned   \n260      M1Y      Not assigned   \n261      M2Y      Not assigned   \n262      M3Y      Not assigned   \n263      M4Y  Downtown Toronto   \n264      M5Y      Not assigned   \n265      M6Y      Not assigned   \n266      M7Y      East Toronto   \n267      M8Y         Etobicoke   \n268      M8Y         Etobicoke   \n269      M8Y         Etobicoke   \n270      M8Y         Etobicoke   \n271      M8Y         Etobicoke   \n272      M8Y         Etobicoke   \n273      M8Y         Etobicoke   \n274      M8Y         Etobicoke   \n275      M9Y      Not assigned   \n276      M1Z      Not assigned   \n277      M2Z      Not assigned   \n278      M3Z      Not assigned   \n279      M4Z      Not assigned   \n280      M5Z      Not assigned   \n281      M6Z      Not assigned   \n282      M7Z      Not assigned   \n283      M8Z         Etobicoke   \n284      M8Z         Etobicoke   \n285      M8Z         Etobicoke   \n286      M8Z         Etobicoke   \n287      M8Z         Etobicoke   \n288      M9Z      Not assigned   \n\n                                         Neighbourhood  \n0                                         Not assigned  \n1                                         Not assigned  \n2                                            Parkwoods  \n3                                     Victoria Village  \n4                                         Harbourfront  \n5                                          Regent Park  \n6                                     Lawrence Heights  \n7                                       Lawrence Manor  \n8                                         Not assigned  \n9                                         Not assigned  \n10                                    Islington Avenue  \n11                                               Rouge  \n12                                             Malvern  \n13                                        Not assigned  \n14                                     Don Mills North  \n15                                    Woodbine Gardens  \n16                                       Parkview Hill  \n17                                             Ryerson  \n18                                     Garden District  \n19                                           Glencairn  \n20                                        Not assigned  \n21                                        Not assigned  \n22                                          Cloverdale  \n23                                           Islington  \n24                                        Martin Grove  \n25                                    Princess Gardens  \n26                                     West Deane Park  \n27                                      Highland Creek  \n28                                          Rouge Hill  \n29                                          Port Union  \n..                                                 ...  \n259                                       Not assigned  \n260                                       Not assigned  \n261                                       Not assigned  \n262                                       Not assigned  \n263                               Church and Wellesley  \n264                                       Not assigned  \n265                                       Not assigned  \n266  Business Reply Mail Processing Centre 969 Eastern  \n267                                         Humber Bay  \n268                                   King's Mill Park  \n269                           Kingsway Park South East  \n270                                          Mimico NE  \n271                                     Old Mill South  \n272                                 The Queensway East  \n273                              Royal York South East  \n274                                           Sunnylea  \n275                                       Not assigned  \n276                                       Not assigned  \n277                                       Not assigned  \n278                                       Not assigned  \n279                                       Not assigned  \n280                                       Not assigned  \n281                                       Not assigned  \n282                                       Not assigned  \n283                           Kingsway Park South West  \n284                                          Mimico NW  \n285                                 The Queensway West  \n286                              Royal York South West  \n287                                     South of Bloor  \n288                                       Not assigned  \n\n[289 rows x 3 columns]"
                    }, 
                    "output_type": "execute_result"
                }
            ], 
            "source": "#create dataframe with col_names scraped above\ntoronto_df=pd.DataFrame({0: codes_list, 1: borough_list, 2: neighborhood_list})\ntoronto_df.columns=col_names\ntoronto_df"
        }, 
        {
            "execution_count": 70, 
            "cell_type": "code", 
            "metadata": {}, 
            "outputs": [], 
            "source": "#drop every row where borough is not assigned\nfor index, borough in enumerate(toronto_df['Borough']):\n    if borough == 'Not assigned':\n        toronto_df.drop(index=index, inplace=True)"
        }, 
        {
            "execution_count": 314, 
            "cell_type": "code", 
            "metadata": {}, 
            "outputs": [
                {
                    "ename": "KeyError", 
                    "evalue": "'Column not found: Neighbourhood'", 
                    "traceback": [
                        "\u001b[0;31m---------------------------------------------------------------------------\u001b[0m", 
                        "\u001b[0;31mKeyError\u001b[0m                                  Traceback (most recent call last)", 
                        "\u001b[0;32m<ipython-input-314-d52554cf1fe8>\u001b[0m in \u001b[0;36m<module>\u001b[0;34m()\u001b[0m\n\u001b[1;32m      1\u001b[0m \u001b[0;31m#Group by all combinations of postcode and borough\u001b[0m\u001b[0;34m\u001b[0m\u001b[0;34m\u001b[0m\u001b[0m\n\u001b[0;32m----> 2\u001b[0;31m \u001b[0mgrouped\u001b[0m \u001b[0;34m=\u001b[0m \u001b[0mtoronto_df\u001b[0m\u001b[0;34m.\u001b[0m\u001b[0mgroupby\u001b[0m\u001b[0;34m(\u001b[0m\u001b[0;34m[\u001b[0m\u001b[0;34m'Postcode'\u001b[0m\u001b[0;34m,\u001b[0m \u001b[0;34m'Borough'\u001b[0m\u001b[0;34m]\u001b[0m\u001b[0;34m,\u001b[0m \u001b[0msort\u001b[0m\u001b[0;34m=\u001b[0m\u001b[0;32mFalse\u001b[0m\u001b[0;34m)\u001b[0m\u001b[0;34m[\u001b[0m\u001b[0;34m'Neighbourhood'\u001b[0m\u001b[0;34m]\u001b[0m\u001b[0;34m\u001b[0m\u001b[0m\n\u001b[0m\u001b[1;32m      3\u001b[0m \u001b[0;34m\u001b[0m\u001b[0m\n\u001b[1;32m      4\u001b[0m \u001b[0;31m#create a list of the values for each neighborhood\u001b[0m\u001b[0;34m\u001b[0m\u001b[0;34m\u001b[0m\u001b[0m\n\u001b[1;32m      5\u001b[0m \u001b[0mhoods\u001b[0m\u001b[0;34m=\u001b[0m \u001b[0;34m[\u001b[0m\u001b[0;34m]\u001b[0m\u001b[0;34m\u001b[0m\u001b[0m\n", 
                        "\u001b[0;32m/opt/conda/envs/DSX-Python35/lib/python3.5/site-packages/pandas/core/base.py\u001b[0m in \u001b[0;36m__getitem__\u001b[0;34m(self, key)\u001b[0m\n\u001b[1;32m    257\u001b[0m         \u001b[0;32melse\u001b[0m\u001b[0;34m:\u001b[0m\u001b[0;34m\u001b[0m\u001b[0m\n\u001b[1;32m    258\u001b[0m             \u001b[0;32mif\u001b[0m \u001b[0mkey\u001b[0m \u001b[0;32mnot\u001b[0m \u001b[0;32min\u001b[0m \u001b[0mself\u001b[0m\u001b[0;34m.\u001b[0m\u001b[0mobj\u001b[0m\u001b[0;34m:\u001b[0m\u001b[0;34m\u001b[0m\u001b[0m\n\u001b[0;32m--> 259\u001b[0;31m                 \u001b[0;32mraise\u001b[0m \u001b[0mKeyError\u001b[0m\u001b[0;34m(\u001b[0m\u001b[0;34m\"Column not found: {key}\"\u001b[0m\u001b[0;34m.\u001b[0m\u001b[0mformat\u001b[0m\u001b[0;34m(\u001b[0m\u001b[0mkey\u001b[0m\u001b[0;34m=\u001b[0m\u001b[0mkey\u001b[0m\u001b[0;34m)\u001b[0m\u001b[0;34m)\u001b[0m\u001b[0;34m\u001b[0m\u001b[0m\n\u001b[0m\u001b[1;32m    260\u001b[0m             \u001b[0;32mreturn\u001b[0m \u001b[0mself\u001b[0m\u001b[0;34m.\u001b[0m\u001b[0m_gotitem\u001b[0m\u001b[0;34m(\u001b[0m\u001b[0mkey\u001b[0m\u001b[0;34m,\u001b[0m \u001b[0mndim\u001b[0m\u001b[0;34m=\u001b[0m\u001b[0;36m1\u001b[0m\u001b[0;34m)\u001b[0m\u001b[0;34m\u001b[0m\u001b[0m\n\u001b[1;32m    261\u001b[0m \u001b[0;34m\u001b[0m\u001b[0m\n", 
                        "\u001b[0;31mKeyError\u001b[0m: 'Column not found: Neighbourhood'"
                    ], 
                    "output_type": "error"
                }
            ], 
            "source": "#Group by all combinations of postcode and borough\ngrouped = toronto_df.groupby(['Postcode', 'Borough'], sort=False)['Neighbourhood']\n\n#create a list of the values for each neighborhood\nhoods= []\nfor group, val_list in list(grouped):\n    temphoods=[]\n    for hood in val_list:\n        temphoods.append(hood)\n    hoods.append(temphoods)\n\n#concatenate the individual lists within the large list to create single entries for addition to the dataframe\nconcatenated_hoods=[]\nfor group in hoods:\n    ccated=', '.join(group)\n    concatenated_hoods.append(ccated)\nconcatenated_hoods"
        }, 
        {
            "source": "Since sort=False in the groupby function above, we are good to go and can simply drop the duplicates, \nthen add in the concatenated_hoods list as a new column to replace the old neighbourhood column.  <br>\nI'm sure there was a more elegant solution, but you can verify order if you want by running the following<br>\nfor x in concatenated_hoods:<br>\n&nbsp;&nbsp;&nbsp;&nbsp;print(x)<br>\nprint(toronto_df.drop_duplicates(subset=['Postcode', 'Borough'], keep='first'))<br>\nCan also check the len and shape and see that we are good to go on the length of the column", 
            "cell_type": "markdown", 
            "metadata": {}
        }, 
        {
            "execution_count": 275, 
            "cell_type": "code", 
            "metadata": {}, 
            "outputs": [], 
            "source": "toronto_df = toronto_df.drop_duplicates(subset=['Postcode', 'Borough'], keep='first')\ntoronto_df['Neighborhoods'] = concatenated_hoods"
        }, 
        {
            "execution_count": 277, 
            "cell_type": "code", 
            "metadata": {}, 
            "outputs": [], 
            "source": "toronto_df.drop('Neighbourhood', axis=1, inplace=True)"
        }, 
        {
            "execution_count": 297, 
            "cell_type": "code", 
            "metadata": {}, 
            "outputs": [], 
            "source": "for i, hoods in enumerate(toronto_df['Neighborhoods']):\n    if hoods == 'Not assigned':\n        toronto_df.iloc[i,2] = toronto_df.iloc[i,1]"
        }, 
        {
            "execution_count": 313, 
            "cell_type": "code", 
            "metadata": {}, 
            "outputs": [
                {
                    "execution_count": 313, 
                    "metadata": {}, 
                    "data": {
                        "text/plain": "(103, 3)"
                    }, 
                    "output_type": "execute_result"
                }
            ], 
            "source": "toronto_df.shape"
        }
    ], 
    "metadata": {
        "kernelspec": {
            "display_name": "Python 3.5", 
            "name": "python3", 
            "language": "python"
        }, 
        "language_info": {
            "mimetype": "text/x-python", 
            "nbconvert_exporter": "python", 
            "version": "3.5.5", 
            "name": "python", 
            "file_extension": ".py", 
            "pygments_lexer": "ipython3", 
            "codemirror_mode": {
                "version": 3, 
                "name": "ipython"
            }
        }
    }, 
    "nbformat": 4
}