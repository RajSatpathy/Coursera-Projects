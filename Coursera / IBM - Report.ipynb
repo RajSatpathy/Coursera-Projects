{
    "nbformat_minor": 1, 
    "cells": [
        {
            "source": "<h1> Introduction", 
            "cell_type": "markdown", 
            "metadata": {
                "collapsed": true
            }
        }, 
        {
            "source": "The issue of access to health care is always a hugely important one - not only does it determine whether or not people are able to access a hospital in their area, but it also is a driver of economic and civil growth. After all, no one wants to move to an area where you know you will have to drive hours in order to get to the nearest hospital that is able to take care of you, particularly in an emergency. As such, it is important to build visualizations in which you are show the locations of the nearest points of care. My aim is to utilize publicly available sources of information in order to do just that for the city of Minneapolis, Minnesota. With such a visualization, the lay person will be able to find locations that have the highest density of healthcare options available for their use and know where it would take a prohibitively long time to travel to the nearest emergency or urgent care center. In addition to the citizens of Minneapolis, any healthcare systems that exist within the city or new healthcare systems that are interested in creating a new clinic will be able to determine where they should open a new campus in order to get the most business in areas that are under-served in terms of healthcare provider options.", 
            "cell_type": "markdown", 
            "metadata": {}
        }, 
        {
            "source": "# Data", 
            "cell_type": "markdown", 
            "metadata": {}
        }, 
        {
            "source": "I will be using the wikipedia page that describes the neighborhoods of Minneapolis (https://en.wikipedia.org/wiki/Neighborhoods_of_Minneapolis) alongside the Foursquare data. The initial data set contains a list of the neighborhoods that lie within Minneapolis, which can then be used alongside the GeoCoder package to ascertain the locations of these individual neighborhoods. With these locations, I will be able to run a FourSquare query using the FourSquare API that will query the neighborhoods for any results based on the word \"healthcare\" within 30 miles - this will provide me with a wealth of information on many different locations that are related to healthcare. However, I will be looking only at query results that match 'critical care', such as 'Emergency Department' or 'Hospital', as these are the only places where patients would be able to access healthcare in an urgent manner. After running this query, I will create a Folium overlay using the neighborhood result and create markers that extend out for 30km from each of the locations of the neighborhood, as determined earlier using the GeoPy package. This final map will be the visualization of which neighborhoods would realistically be able to access a healthcare provider if there is an emergent need or challenge to their personal health at any given time, as it will represent a maximum travel time of 30 minutes from the geographical center of the neighborhood to the nearest appropriate healthcare provider. ", 
            "cell_type": "markdown", 
            "metadata": {}
        }, 
        {
            "source": "<h1> Methodology", 
            "cell_type": "markdown", 
            "metadata": {}
        }, 
        {
            "source": "As previously mentioned, this project is a report meant to discern the ability of citizens of Minneapolis who have access to an urgent care provider within 30km of their location. As such, the majority of the data analysis involved was simple: it involved gathering the information regarding the venues that were located within 30km of an assigned 'center point', as determined by FourSquare API calls. Afterward, the venues were culled in order to solely select for the following groups: \"Doctor's Office\", 'Hospital', 'Emergency Room', and 'Urgent Care Center'. Afterward, the remaining venues were counted, then visualized upon a map using Folium in order to better understand where there is a lack of access to health care within the Minneapolis community. This meant that there was little need for any inferential statistics or machine learning techniques outside of the data wrangling process itself. ", 
            "cell_type": "markdown", 
            "metadata": {}
        }, 
        {
            "source": "<h1> Results and Discussion", 
            "cell_type": "markdown", 
            "metadata": {}
        }, 
        {
            "source": "The Folium map shows that there are certainly areas where accessing urgent health care is not something that is possible in the time frame that we would like it to be. In other words, there are areas that are overlapped in terms of coverage, such as the downtown area of Minneapolis, but there are other areas, such as the Near North area, that have absolutely no urgent care providers available within 30 km from their centers. \nAs such, the greatest recommendation for the future expansion of health care in Minneapolis is to create clinics that lie in the Near North area, or other areas where there is no overlap seen on the Folium-originated visualization. ", 
            "cell_type": "markdown", 
            "metadata": {}
        }, 
        {
            "source": "<h1> Conclusion", 
            "cell_type": "markdown", 
            "metadata": {}
        }, 
        {
            "source": "In conclusion, there is a dire need for the expansion of urgent care providers in the Minneapolis area. Both citizens and health care systems alike should pay attntion to this information, as it clearly shows that one should really be settling in one of the three major areas where there are many urgent care providers if an individual has any sort of major heath issue, otherwise there is th risk that one will not be able to access care when needed. Furthermore, there lies a huge opportunity for health care systems and hospitals to open new clinics in the areas that do not have any of these clinics present. While this is simply preliminary and exploratory data on the issue, future investigations should see if there are any demographics trends that exist in the differences between the portions of Minneapolis that do and do not have adequate health care access. Additionally, mortality rates within these areas should be measured in order to determine if there is an order in which health care systems should expand their services, i.e. if there are higher mortality rates in one area, it should be the first area in need of a new clinic. ", 
            "cell_type": "markdown", 
            "metadata": {}
        }, 
        {
            "execution_count": null, 
            "cell_type": "code", 
            "metadata": {}, 
            "outputs": [], 
            "source": ""
        }
    ], 
    "metadata": {
        "kernelspec": {
            "display_name": "Python 3.5", 
            "name": "python3", 
            "language": "python"
        }, 
        "language_info": {
            "mimetype": "text/x-python", 
            "nbconvert_exporter": "python", 
            "version": "3.5.5", 
            "name": "python", 
            "file_extension": ".py", 
            "pygments_lexer": "ipython3", 
            "codemirror_mode": {
                "version": 3, 
                "name": "ipython"
            }
        }
    }, 
    "nbformat": 4
}